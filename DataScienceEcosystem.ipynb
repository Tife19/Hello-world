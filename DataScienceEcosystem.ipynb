{
 "cells": [
  {
   "cell_type": "markdown",
   "id": "655b32fd",
   "metadata": {},
   "source": [
    "# Data Science Tools and Ecosystem"
   ]
  },
  {
   "cell_type": "markdown",
   "id": "0524a57c",
   "metadata": {},
   "source": [
    "### In this notebook, Data Science Tools and Ecosystem are summarized."
   ]
  },
  {
   "cell_type": "markdown",
   "id": "6a23fdfe",
   "metadata": {},
   "source": [
    "### Objectives:\n",
    "\n",
    " - List popular languages for Data Sciece\n",
    " - List libraries used in Data Science\n",
    " - Insert code and Markdown cells\n",
    " - Create a jupyter notebook"
   ]
  },
  {
   "cell_type": "markdown",
   "id": "33301677",
   "metadata": {},
   "source": [
    "Some of the popular languages that Data Scientists use are"
   ]
  },
  {
   "cell_type": "markdown",
   "id": "3fe622e1",
   "metadata": {},
   "source": [
    "1. R\n",
    "2. Python\n",
    "3. SQL\n",
    "4. C++\n",
    "5. Perl"
   ]
  },
  {
   "cell_type": "markdown",
   "id": "bcfbb8f0",
   "metadata": {},
   "source": [
    "Some of the commonly used libraries used by Data Scientists include:\n",
    "1. Plotly\n",
    "2. SciPy\n",
    "3. Scikit-learn\n",
    "4. Numpy"
   ]
  },
  {
   "cell_type": "markdown",
   "id": "7bb23615",
   "metadata": {},
   "source": [
    "| Data Science Tools |\n",
    "| :----------------: |\n",
    "|       Git          |\n",
    "|     Bootstrap      |\n",
    "|      Jenkins       |"
   ]
  },
  {
   "cell_type": "markdown",
   "id": "3f38d0d0",
   "metadata": {},
   "source": [
    "### Below are a few examples of evaluating arithmetic expressions in python"
   ]
  },
  {
   "cell_type": "code",
   "execution_count": 4,
   "id": "1a21da1a",
   "metadata": {},
   "outputs": [
    {
     "data": {
      "text/plain": [
       "17"
      ]
     },
     "execution_count": 4,
     "metadata": {},
     "output_type": "execute_result"
    }
   ],
   "source": [
    "# Simple arithmetic expression to multiply then add integers\n",
    "(3*4)+5"
   ]
  },
  {
   "cell_type": "markdown",
   "id": "215c9e2e",
   "metadata": {},
   "source": [
    "## Author\n",
    "Abiodun Abigail Adedokun Adesegun"
   ]
  },
  {
   "cell_type": "code",
   "execution_count": null,
   "id": "c74ffc5d",
   "metadata": {},
   "outputs": [],
   "source": []
  }
 ],
 "metadata": {
  "kernelspec": {
   "display_name": "Python 3 (ipykernel)",
   "language": "python",
   "name": "python3"
  },
  "language_info": {
   "codemirror_mode": {
    "name": "ipython",
    "version": 3
   },
   "file_extension": ".py",
   "mimetype": "text/x-python",
   "name": "python",
   "nbconvert_exporter": "python",
   "pygments_lexer": "ipython3",
   "version": "3.11.4"
  }
 },
 "nbformat": 4,
 "nbformat_minor": 5
}
